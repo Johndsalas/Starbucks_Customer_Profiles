{
 "cells": [
  {
   "cell_type": "markdown",
   "id": "understanding-panel",
   "metadata": {},
   "source": [
    "# Imports"
   ]
  },
  {
   "cell_type": "code",
   "execution_count": 1,
   "id": "processed-sympathy",
   "metadata": {},
   "outputs": [],
   "source": [
    "import pandas as pd\n",
    "import numpy as np\n",
    "\n",
    "import matplotlib.pyplot as plt\n",
    "import seaborn as sns\n",
    "\n",
    "import prepare as p\n",
    "import explore as e"
   ]
  },
  {
   "cell_type": "markdown",
   "id": "competent-spotlight",
   "metadata": {},
   "source": [
    "# Acquire\n",
    "\n",
    "* This dataset was downloaded from [Kaggle](https://www.kaggle.com/datasets/mahirahmzh/starbucks-customer-retention-malaysia-survey)\n",
    "* I used the unencoded version of the data\n",
    "* Each observation is a survey filled out by a Starbucks customer\n",
    "* Each feature is a question asked in the survey or a timestamp for that survey\n",
    "* This dataset contains 21 features and 122 observations\n",
    "\n",
    "[Income Classification in Malaysia: What is B40, M40, and T20](https://www.iproperty.com.my/guides/what-is-b40-m40-t20-in-malaysia/) by Rebecca Hani Romeli was referenced for information regarding Malaysian currency and income levels"
   ]
  },
  {
   "cell_type": "code",
   "execution_count": 2,
   "id": "inside-ambassador",
   "metadata": {},
   "outputs": [],
   "source": [
    "df = pd.read_csv('starbucks_survey.csv')"
   ]
  },
  {
   "cell_type": "markdown",
   "id": "correct-alabama",
   "metadata": {},
   "source": [
    "# Prepare"
   ]
  },
  {
   "cell_type": "code",
   "execution_count": 3,
   "id": "killing-charm",
   "metadata": {},
   "outputs": [
    {
     "data": {
      "text/html": [
       "<div>\n",
       "<style scoped>\n",
       "    .dataframe tbody tr th:only-of-type {\n",
       "        vertical-align: middle;\n",
       "    }\n",
       "\n",
       "    .dataframe tbody tr th {\n",
       "        vertical-align: top;\n",
       "    }\n",
       "\n",
       "    .dataframe thead th {\n",
       "        text-align: right;\n",
       "    }\n",
       "</style>\n",
       "<table border=\"1\" class=\"dataframe\">\n",
       "  <thead>\n",
       "    <tr style=\"text-align: right;\">\n",
       "      <th></th>\n",
       "      <th>gender</th>\n",
       "      <th>age_group</th>\n",
       "      <th>employment_status</th>\n",
       "      <th>annual_income_group</th>\n",
       "      <th>visit_frequency</th>\n",
       "      <th>dining_type</th>\n",
       "      <th>visit_length</th>\n",
       "      <th>distance_away</th>\n",
       "      <th>membership_card</th>\n",
       "      <th>most_frequent_purchase</th>\n",
       "      <th>...</th>\n",
       "      <th>wifi_rating</th>\n",
       "      <th>service_rating</th>\n",
       "      <th>gathering_likelyhood</th>\n",
       "      <th>promotions_from</th>\n",
       "      <th>continue_buying</th>\n",
       "      <th>Coffee</th>\n",
       "      <th>Cold drinks</th>\n",
       "      <th>Pastries</th>\n",
       "      <th>Sandwiches</th>\n",
       "      <th>Juices</th>\n",
       "    </tr>\n",
       "  </thead>\n",
       "  <tbody>\n",
       "    <tr>\n",
       "      <th>0</th>\n",
       "      <td>Female</td>\n",
       "      <td>From 20 to 29</td>\n",
       "      <td>Student</td>\n",
       "      <td>Less than RM25,000</td>\n",
       "      <td>Rarely</td>\n",
       "      <td>Dine in</td>\n",
       "      <td>Between 30 minutes to 1 hour</td>\n",
       "      <td>within 1km</td>\n",
       "      <td>Yes</td>\n",
       "      <td>Coffee</td>\n",
       "      <td>...</td>\n",
       "      <td>4</td>\n",
       "      <td>4</td>\n",
       "      <td>3</td>\n",
       "      <td>Starbucks Website/Apps;Social Media;Emails;Dea...</td>\n",
       "      <td>Yes</td>\n",
       "      <td>True</td>\n",
       "      <td>False</td>\n",
       "      <td>False</td>\n",
       "      <td>False</td>\n",
       "      <td>False</td>\n",
       "    </tr>\n",
       "    <tr>\n",
       "      <th>1</th>\n",
       "      <td>Female</td>\n",
       "      <td>From 20 to 29</td>\n",
       "      <td>Student</td>\n",
       "      <td>Less than RM25,000</td>\n",
       "      <td>Rarely</td>\n",
       "      <td>Take away</td>\n",
       "      <td>Below 30 minutes</td>\n",
       "      <td>1km - 3km</td>\n",
       "      <td>Yes</td>\n",
       "      <td>Cold drinks;Pastries</td>\n",
       "      <td>...</td>\n",
       "      <td>4</td>\n",
       "      <td>5</td>\n",
       "      <td>2</td>\n",
       "      <td>Social Media;In Store displays</td>\n",
       "      <td>Yes</td>\n",
       "      <td>False</td>\n",
       "      <td>True</td>\n",
       "      <td>True</td>\n",
       "      <td>False</td>\n",
       "      <td>False</td>\n",
       "    </tr>\n",
       "    <tr>\n",
       "      <th>2</th>\n",
       "      <td>Male</td>\n",
       "      <td>From 20 to 29</td>\n",
       "      <td>Employed</td>\n",
       "      <td>Less than RM25,000</td>\n",
       "      <td>Monthly</td>\n",
       "      <td>Dine in</td>\n",
       "      <td>Between 30 minutes to 1 hour</td>\n",
       "      <td>more than 3km</td>\n",
       "      <td>Yes</td>\n",
       "      <td>Coffee</td>\n",
       "      <td>...</td>\n",
       "      <td>4</td>\n",
       "      <td>4</td>\n",
       "      <td>3</td>\n",
       "      <td>In Store displays;Billboards</td>\n",
       "      <td>Yes</td>\n",
       "      <td>True</td>\n",
       "      <td>False</td>\n",
       "      <td>False</td>\n",
       "      <td>False</td>\n",
       "      <td>False</td>\n",
       "    </tr>\n",
       "    <tr>\n",
       "      <th>3</th>\n",
       "      <td>Female</td>\n",
       "      <td>From 20 to 29</td>\n",
       "      <td>Student</td>\n",
       "      <td>Less than RM25,000</td>\n",
       "      <td>Rarely</td>\n",
       "      <td>Take away</td>\n",
       "      <td>Below 30 minutes</td>\n",
       "      <td>more than 3km</td>\n",
       "      <td>No</td>\n",
       "      <td>Coffee</td>\n",
       "      <td>...</td>\n",
       "      <td>3</td>\n",
       "      <td>3</td>\n",
       "      <td>3</td>\n",
       "      <td>Through friends and word of mouth</td>\n",
       "      <td>No</td>\n",
       "      <td>True</td>\n",
       "      <td>False</td>\n",
       "      <td>False</td>\n",
       "      <td>False</td>\n",
       "      <td>False</td>\n",
       "    </tr>\n",
       "    <tr>\n",
       "      <th>4</th>\n",
       "      <td>Male</td>\n",
       "      <td>From 20 to 29</td>\n",
       "      <td>Student</td>\n",
       "      <td>Less than RM25,000</td>\n",
       "      <td>Monthly</td>\n",
       "      <td>Take away</td>\n",
       "      <td>Between 30 minutes to 1 hour</td>\n",
       "      <td>1km - 3km</td>\n",
       "      <td>No</td>\n",
       "      <td>Coffee;Sandwiches</td>\n",
       "      <td>...</td>\n",
       "      <td>2</td>\n",
       "      <td>3</td>\n",
       "      <td>3</td>\n",
       "      <td>Starbucks Website/Apps;Social Media</td>\n",
       "      <td>Yes</td>\n",
       "      <td>True</td>\n",
       "      <td>False</td>\n",
       "      <td>False</td>\n",
       "      <td>True</td>\n",
       "      <td>False</td>\n",
       "    </tr>\n",
       "  </tbody>\n",
       "</table>\n",
       "<p>5 rows × 25 columns</p>\n",
       "</div>"
      ],
      "text/plain": [
       "   gender      age_group employment_status annual_income_group  \\\n",
       "0  Female  From 20 to 29           Student  Less than RM25,000   \n",
       "1  Female  From 20 to 29           Student  Less than RM25,000   \n",
       "2    Male  From 20 to 29          Employed  Less than RM25,000   \n",
       "3  Female  From 20 to 29           Student  Less than RM25,000   \n",
       "4    Male  From 20 to 29           Student  Less than RM25,000   \n",
       "\n",
       "  visit_frequency dining_type                  visit_length  distance_away  \\\n",
       "0          Rarely     Dine in  Between 30 minutes to 1 hour     within 1km   \n",
       "1          Rarely   Take away              Below 30 minutes      1km - 3km   \n",
       "2         Monthly     Dine in  Between 30 minutes to 1 hour  more than 3km   \n",
       "3          Rarely   Take away              Below 30 minutes  more than 3km   \n",
       "4         Monthly   Take away  Between 30 minutes to 1 hour      1km - 3km   \n",
       "\n",
       "  membership_card most_frequent_purchase  ... wifi_rating  service_rating  \\\n",
       "0             Yes                 Coffee  ...           4               4   \n",
       "1             Yes   Cold drinks;Pastries  ...           4               5   \n",
       "2             Yes                 Coffee  ...           4               4   \n",
       "3              No                 Coffee  ...           3               3   \n",
       "4              No      Coffee;Sandwiches  ...           2               3   \n",
       "\n",
       "   gathering_likelyhood                                    promotions_from  \\\n",
       "0                     3  Starbucks Website/Apps;Social Media;Emails;Dea...   \n",
       "1                     2                     Social Media;In Store displays   \n",
       "2                     3                       In Store displays;Billboards   \n",
       "3                     3                  Through friends and word of mouth   \n",
       "4                     3                Starbucks Website/Apps;Social Media   \n",
       "\n",
       "   continue_buying  Coffee  Cold drinks  Pastries Sandwiches Juices  \n",
       "0              Yes    True        False     False      False  False  \n",
       "1              Yes   False         True      True      False  False  \n",
       "2              Yes    True        False     False      False  False  \n",
       "3               No    True        False     False      False  False  \n",
       "4              Yes    True        False     False       True  False  \n",
       "\n",
       "[5 rows x 25 columns]"
      ]
     },
     "execution_count": 3,
     "metadata": {},
     "output_type": "execute_result"
    }
   ],
   "source": [
    "df = p.prepare_customer_survey(df)\n",
    "df.head()"
   ]
  },
  {
   "cell_type": "markdown",
   "id": "ready-buyer",
   "metadata": {},
   "source": [
    "# Explore\n",
    "\n",
    "### Part I: What are the customers characteristics?\n",
    "* Gender\n",
    "* Age\n",
    "* Employment\n",
    "* Income\n",
    "* Frequency of Visit\n",
    "* Distance from Nearist Starbucks\n",
    "* spend_per_visit\n",
    "\n",
    "### Part II: why do customers come to Starbucks?\n",
    "* visit_length\n",
    "* dining_type\n",
    "* most_frequent_purchase\n",
    "* promotion_importance\n",
    "* gathering_likelyhood\n",
    "\n",
    "### Part III: What do customers think of Starbucks?\n",
    "* brand_rating\n",
    "* price_rating\n",
    "* ambiance_rating\n",
    "* wifi_rating\n",
    "* service_rating\n",
    "* continue_buying\n",
    "\n",
    "### Part IV: Miscellaneous\n",
    "* membership_card\n",
    "* promotions_from"
   ]
  },
  {
   "cell_type": "markdown",
   "id": "acoustic-screw",
   "metadata": {},
   "source": [
    "## Part I: What are the customers characteristics?\n",
    "\n",
    "#### What is the gender distribution of Starbucks customers?"
   ]
  },
  {
   "cell_type": "code",
   "execution_count": null,
   "id": "olive-copper",
   "metadata": {
    "scrolled": true
   },
   "outputs": [],
   "source": [
    "# calling function to generate visual\n",
    "e.gender_pie(df)"
   ]
  },
  {
   "cell_type": "markdown",
   "id": "interstate-hierarchy",
   "metadata": {},
   "source": [
    "#### What is the age distribution of Starbucks customers?"
   ]
  },
  {
   "cell_type": "code",
   "execution_count": null,
   "id": "delayed-colleague",
   "metadata": {},
   "outputs": [],
   "source": [
    "# calling function to generate visual \n",
    "e.age_pie(df)"
   ]
  },
  {
   "cell_type": "markdown",
   "id": "dental-wheel",
   "metadata": {},
   "source": [
    "#### What is the employment distribution of Starbucks customers?"
   ]
  },
  {
   "cell_type": "code",
   "execution_count": null,
   "id": "corresponding-enlargement",
   "metadata": {
    "scrolled": true
   },
   "outputs": [],
   "source": [
    "# calling function to generate visual\n",
    "e.employment_pie(df)"
   ]
  },
  {
   "cell_type": "markdown",
   "id": "spatial-snake",
   "metadata": {},
   "source": [
    "#### What is the income distribution of Starbucks customers?"
   ]
  },
  {
   "cell_type": "code",
   "execution_count": null,
   "id": "similar-unemployment",
   "metadata": {},
   "outputs": [],
   "source": [
    "# calling function to generate visual\n",
    "e.income_pie(df)"
   ]
  },
  {
   "cell_type": "markdown",
   "id": "traditional-financing",
   "metadata": {},
   "source": [
    "#### How often do Starbucks customers visit Satrbucks?"
   ]
  },
  {
   "cell_type": "code",
   "execution_count": null,
   "id": "becoming-census",
   "metadata": {},
   "outputs": [],
   "source": [
    "# calling function to generate visual\n",
    "e.visit_pie(df)"
   ]
  },
  {
   "cell_type": "markdown",
   "id": "interpreted-subcommittee",
   "metadata": {},
   "source": [
    "### How many customers live near a Starbucks?"
   ]
  },
  {
   "cell_type": "code",
   "execution_count": null,
   "id": "casual-dress",
   "metadata": {},
   "outputs": [],
   "source": [
    "# calling function to generate visual\n",
    "e.distance_pie(df)"
   ]
  },
  {
   "cell_type": "markdown",
   "id": "simplified-eagle",
   "metadata": {},
   "source": [
    "### How much do Customers Spend at Starbucks per visit?"
   ]
  },
  {
   "cell_type": "code",
   "execution_count": null,
   "id": "hearing-chance",
   "metadata": {},
   "outputs": [],
   "source": [
    "# calling function to generate visual\n",
    "e.spend_pie(df)"
   ]
  },
  {
   "cell_type": "markdown",
   "id": "correct-michigan",
   "metadata": {},
   "source": [
    "### Majority of Starbucks customers:\n",
    "* Are young adults aged 20-29\n",
    "* Make less than RM25,000 annually\n",
    "* Live more than 3 KM form a Starbucks\n",
    "* Visit less than once a month\n",
    "* Spend less than RM20 per visit\n",
    "\n",
    "### Other findings:\n",
    "* 1/3 of customers are students and 1/2 are employed in unknown fields\n",
    "* Customers are nearly evenly split between male and female"
   ]
  },
  {
   "cell_type": "markdown",
   "id": "pointed-oxide",
   "metadata": {},
   "source": [
    "### Follow up questions for latter inquiry?\n",
    "* Do customers that live near Starbucks visit more frequiently?\n",
    "* Do customers that spend differint amounts per visit represent differint customer groups?\n",
    "* Do differint Employment types represent differint customer groups?\n",
    "* Do customers who dine-in spend more?"
   ]
  },
  {
   "cell_type": "markdown",
   "id": "favorite-university",
   "metadata": {},
   "source": [
    "### A note on Malaysian income:\n",
    "\n",
    "It is difficult to interpret how servey results regarding income as they are in a currency that is unfamiliar to me.\n",
    "\n",
    "Malaysia classifies income into three brackets delineating the bottom and middle 40%, and the top 20% of household incomes.\n",
    "\n",
    "#### The ranges are:\n",
    "\n",
    "* RM0-RM4,850 for the bottom tier (40%)\n",
    "* RM4,850-RM8,700 for the mid tier (40%)\n",
    "* RM8,701-more than RM15,041 for the top tire (20%)\n",
    "\n",
    "According to the Income Classification in Malaysia: What is B40, M40, and T20 by Rebecca Hani Romeli, a living wage in Malaysia would be RM2,700 per month or RM32,400 per year, almost four times the cutoff for the top 20% of earners.\n",
    "\n",
    "Because 42% of Starbucks customer base makes more than RM25,000 it would seem that it is serving the top income earners in it's area. a fact that might escape one who looks at the 58% that is below this number. We must keep in mind that a customer who earns less than RM25,000 is still in the top 20% of income earning households, though as suggested above being in the top 20% of earners does not garentee the RM32,400 one would need for a living wage.  "
   ]
  },
  {
   "cell_type": "code",
   "execution_count": null,
   "id": "dietary-swiss",
   "metadata": {},
   "outputs": [],
   "source": [
    "df.dining_type.value_counts()"
   ]
  },
  {
   "cell_type": "markdown",
   "id": "professional-polymer",
   "metadata": {},
   "source": [
    "### Part II: Why do customers come to Starbucks?\n",
    "\n",
    "* visit_length\n",
    "* dining_type\n",
    "* most_frequent_purchase\n",
    "* promotion_importance\n",
    "* gathering_likelyhood"
   ]
  },
  {
   "cell_type": "code",
   "execution_count": null,
   "id": "suspected-consumption",
   "metadata": {},
   "outputs": [],
   "source": [
    "# set values and labels for chart\n",
    "values = [len(df.visit_length[df.visit_length == 'Below 30 minutes']), \n",
    "          len(df.visit_length[df.visit_length == 'Between 30 minutes to 1 hour']),\n",
    "          len(df.visit_length[df.visit_length == 'Between 1 hour to 2 hours']),\n",
    "          len(df.visit_length[(df.visit_length == 'Between 2 hours to 3 hours') \n",
    "                            | (df.visit_length == 'More than 3 hours')])]\n",
    "\n",
    "labels = ['< 30 min','30 min to 1 Hour', 'Between 1 and 2 Hours', '> 2 Hours'] \n",
    "\n",
    "# generate and show chart\n",
    "plt.pie(values, labels=labels, autopct='%.0f%%', colors=['#ffc3a0', '#c0d6e4', '#cf98eb', '#77d198'])\n",
    "plt.title('A large majority of Starbucks customers spend less than 30 minutes per visit')\n",
    "plt.show()"
   ]
  },
  {
   "cell_type": "code",
   "execution_count": null,
   "id": "chronic-worry",
   "metadata": {},
   "outputs": [],
   "source": [
    "# set values and labels for chart\n",
    "values = [len(df.dining_type[df.dining_type == 'Take away']), \n",
    "          len(df.dining_type[df.dining_type == 'Dine in']),\n",
    "          len(df.dining_type[df.dining_type == 'Drive-thru'])]\n",
    "\n",
    "labels = ['Take away','Dine in', 'Drive-thru'] \n",
    "\n",
    "# generate and show chart\n",
    "plt.pie(values, labels=labels, autopct='%.0f%%', colors=['#ffc3a0', '#c0d6e4', '#cf98eb'])\n",
    "plt.title('Only 40% of Starbucks customers are Dine in customers')\n",
    "plt.show()"
   ]
  },
  {
   "cell_type": "markdown",
   "id": "referenced-jungle",
   "metadata": {},
   "source": [
    "* 60% of customers place pick up orders "
   ]
  },
  {
   "cell_type": "code",
   "execution_count": null,
   "id": "sublime-curve",
   "metadata": {},
   "outputs": [],
   "source": [
    "df.most_frequent_purchase.value_counts()"
   ]
  },
  {
   "cell_type": "code",
   "execution_count": null,
   "id": "unexpected-child",
   "metadata": {},
   "outputs": [],
   "source": [
    "# Create three Pie chart subplots in one figgure showing only drink buying habbits\n",
    "\n",
    "# define figure size and title\n",
    "plt.figure(figsize=(12,12))\n",
    "plt.suptitle('74% of Customers Order Only a Coffee or Only a Drink')\n",
    "\n",
    "# first subplot\n",
    "plt.subplot(1,3,1)\n",
    "\n",
    "# define values and labels\n",
    "values = [len(df.most_frequent_purchase[df.most_frequent_purchase == 'Coffee']),\n",
    "          len(df.most_frequent_purchase[df.most_frequent_purchase != 'Coffee'])]\n",
    "labels = ['Only Coffee', 'Other']\n",
    "\n",
    "# make chart and add subtitle \n",
    "plt.pie(values, labels=labels, autopct='%.0f%%', colors=['#ffc3a0', '#c0d6e4'])\n",
    "plt.title('Customers Ordering Only Coffee')\n",
    "\n",
    "# second subplot\n",
    "plt.subplot(1,3,2)\n",
    "\n",
    "# define values and labels\n",
    "values = [len(df.most_frequent_purchase[df.most_frequent_purchase == 'Cold drinks']),\n",
    "          len(df.most_frequent_purchase[df.most_frequent_purchase != 'Cold drinks'])]\n",
    "labels = ['Only Cold drink', 'Other']\n",
    "\n",
    "# make chart and add subtitle\n",
    "plt.pie(values, labels=labels, autopct='%.0f%%', colors=['#ffc3a0', '#c0d6e4'])\n",
    "plt.title('Customers Ordering Only Cold Drink')\n",
    "\n",
    "# third subplot\n",
    "plt.subplot(1,3,3)\n",
    "\n",
    "# define values and labels\n",
    "values = [len(df.most_frequent_purchase[(df.most_frequent_purchase == 'Coffee')\n",
    "                                           | (df.most_frequent_purchase == 'Cold drinks')]),\n",
    "          len(df.most_frequent_purchase[(df.most_frequent_purchase != 'Coffee')\n",
    "                                           & (df.most_frequent_purchase != 'Cold drinks')])]\n",
    "labels = ['Just Drink', 'Other']\n",
    "\n",
    "# make chart and add subtitle\n",
    "plt.pie(values, labels=labels, autopct='%.0f%%', colors=['#ffc3a0', '#c0d6e4'])\n",
    "plt.title('Customers Ordering Just a Drink')\n",
    "\n",
    "# print figgure\n",
    "plt.tight_layout()\n",
    "plt.show()"
   ]
  },
  {
   "cell_type": "code",
   "execution_count": null,
   "id": "identical-register",
   "metadata": {},
   "outputs": [],
   "source": [
    "# Create three Pie chart subplots in one figgure showing containing drink buying habbits\n",
    "\n",
    "# define figure size and title\n",
    "plt.figure(figsize=(12,12))\n",
    "plt.suptitle('74% of Customers Order Only One Coffee or Only a Drink')\n",
    "\n",
    "# first subplot\n",
    "plt.subplot(1,3,1)\n",
    "\n",
    "# define values and labels\n",
    "values = [len(df.Coffee[df.Coffee == True]),\n",
    "          len(df.Coffee[df.Coffee == False])]\n",
    "labels = ['Order Contains Coffee', 'No Coffee']\n",
    "\n",
    "# make chart and add subtitle \n",
    "plt.pie(values, labels=labels, autopct='%.0f%%', colors=['#ffc3a0', '#c0d6e4'])\n",
    "plt.title('Customers Ordering Only Coffee')\n",
    "\n",
    "# second subplot\n",
    "plt.subplot(1,3,2)\n",
    "\n",
    "# define values and labels\n",
    "values = [len(df.most_frequent_purchase[df.most_frequent_purchase == 'Cold drinks']),\n",
    "          len(df.most_frequent_purchase[df.most_frequent_purchase != 'Cold drinks'])]\n",
    "labels = ['Only Cold drink', 'Other']\n",
    "\n",
    "# make chart and add subtitle\n",
    "plt.pie(values, labels=labels, autopct='%.0f%%', colors=['#ffc3a0', '#c0d6e4'])\n",
    "plt.title('Customers Ordering Only Cold Drink')\n",
    "\n",
    "# third subplot\n",
    "plt.subplot(1,3,3)\n",
    "\n",
    "# define values and labels\n",
    "values = [len(df.most_frequent_purchase[(df.most_frequent_purchase == 'Coffee')\n",
    "                                           | (df.most_frequent_purchase == 'Cold drinks')]),\n",
    "          len(df.most_frequent_purchase[(df.most_frequent_purchase != 'Coffee')\n",
    "                                           & (df.most_frequent_purchase != 'Cold drinks')])]\n",
    "labels = ['Just Drink', 'Other']\n",
    "\n",
    "# make chart and add subtitle\n",
    "plt.pie(values, labels=labels, autopct='%.0f%%', colors=['#ffc3a0', '#c0d6e4'])\n",
    "plt.title('Customers Ordering Just a Drink')\n",
    "\n",
    "# print figgure\n",
    "plt.tight_layout()\n",
    "plt.show()"
   ]
  },
  {
   "cell_type": "code",
   "execution_count": null,
   "id": "sporting-missile",
   "metadata": {},
   "outputs": [],
   "source": []
  },
  {
   "cell_type": "code",
   "execution_count": null,
   "id": "upset-casting",
   "metadata": {},
   "outputs": [],
   "source": []
  }
 ],
 "metadata": {
  "kernelspec": {
   "display_name": "Python 3",
   "language": "python",
   "name": "python3"
  },
  "language_info": {
   "codemirror_mode": {
    "name": "ipython",
    "version": 3
   },
   "file_extension": ".py",
   "mimetype": "text/x-python",
   "name": "python",
   "nbconvert_exporter": "python",
   "pygments_lexer": "ipython3",
   "version": "3.7.4"
  }
 },
 "nbformat": 4,
 "nbformat_minor": 5
}
